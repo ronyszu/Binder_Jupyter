{
 "cells": [
  {
   "cell_type": "code",
   "execution_count": null,
   "metadata": {},
   "outputs": [],
   "source": [
    "\n",
    "\n"
   ]
  },
  {
   "cell_type": "code",
   "execution_count": null,
   "metadata": {},
   "outputs": [],
   "source": [
    "\n",
    "from IPython.display import IFrame\n",
    "IFrame(src='http://localhost:57286/',width = 1000,height =800)"
   ]
  },
  {
   "cell_type": "code",
   "execution_count": null,
   "metadata": {},
   "outputs": [],
   "source": [
    "import numpy as np\n",
    "import pandas as pd\n",
    "import qgrid\n",
    "randn = np.random.randn\n",
    "df_types = pd.DataFrame({\n",
    "    'A' : pd.Series(['2013-01-01', '2013-01-02', '2013-01-03', '2013-01-04',\n",
    "               '2013-01-05', '2013-01-06', '2013-01-07', '2013-01-08', '2013-01-09'],index=list(range(9)),dtype='datetime64[ns]'),\n",
    "    'B' : pd.Series(randn(9),index=list(range(9)),dtype='float32'),\n",
    "    'C' : pd.Categorical([\"rony\", \"beautiful\", \"very\", \"handsome\", \"delicius\",\"hot\", \"honey\", \"radix\", \"s2\"]),\n",
    "    'D' : [\"rony\", \"beautiful\", \"very\", \"handsome\", \"delicius\",\"hot\", \"honey\", \"radix\", \"s2\"] })\n",
    "df_types['E'] = df_types['D'] == 'foo'\n",
    "qgrid_widget = qgrid.show_grid(df_types, show_toolbar=True)\n",
    "qgrid_widget"
   ]
  },
  {
   "cell_type": "markdown",
   "metadata": {},
   "source": [
    "### qgrid_widget.get_changed_df()"
   ]
  },
  {
   "cell_type": "code",
   "execution_count": null,
   "metadata": {},
   "outputs": [],
   "source": []
  },
  {
   "cell_type": "code",
   "execution_count": null,
   "metadata": {},
   "outputs": [],
   "source": []
  },
  {
   "cell_type": "code",
   "execution_count": null,
   "metadata": {},
   "outputs": [],
   "source": [
    "qgrid_widget.get_changed_df()"
   ]
  },
  {
   "cell_type": "code",
   "execution_count": null,
   "metadata": {},
   "outputs": [],
   "source": []
  },
  {
   "cell_type": "code",
   "execution_count": null,
   "metadata": {},
   "outputs": [],
   "source": []
  },
  {
   "cell_type": "code",
   "execution_count": null,
   "metadata": {},
   "outputs": [],
   "source": []
  },
  {
   "cell_type": "code",
   "execution_count": null,
   "metadata": {},
   "outputs": [],
   "source": []
  },
  {
   "cell_type": "code",
   "execution_count": null,
   "metadata": {},
   "outputs": [],
   "source": [
    "from pprint import pprint\n",
    "from pymongo import MongoClient\n",
    "\n",
    "client = MongoClient('localhost:27017') ## 27017 é a porta padrão para a instalação do Mongo DB\n",
    "db = client.Test\n",
    "collection = db.CapsuleStore\n"
   ]
  },
  {
   "cell_type": "code",
   "execution_count": null,
   "metadata": {},
   "outputs": [],
   "source": [
    "collection"
   ]
  },
  {
   "cell_type": "code",
   "execution_count": null,
   "metadata": {},
   "outputs": [],
   "source": [
    "db"
   ]
  },
  {
   "cell_type": "code",
   "execution_count": null,
   "metadata": {},
   "outputs": [],
   "source": [
    "from pprint import pprint\n",
    "from pymongo import MongoClient\n",
    "pprint.pprint(collection.find_one())"
   ]
  },
  {
   "cell_type": "code",
   "execution_count": null,
   "metadata": {},
   "outputs": [],
   "source": [
    "\n",
    "\n"
   ]
  },
  {
   "cell_type": "code",
   "execution_count": null,
   "metadata": {},
   "outputs": [],
   "source": [
    "capsuleData =collection.find_one()"
   ]
  },
  {
   "cell_type": "code",
   "execution_count": null,
   "metadata": {},
   "outputs": [],
   "source": []
  },
  {
   "cell_type": "code",
   "execution_count": 83,
   "metadata": {},
   "outputs": [
    {
     "name": "stdout",
     "output_type": "stream",
     "text": [
      "{'CapsuleId': '13',\n",
      " 'ConditionId': 'c0d5f502-c718-4fb1-962c-d69c231380b9',\n",
      " 'End': '16-06-2019',\n",
      " 'Name': 'capsule1 mongo db',\n",
      " 'Start': '15-06-2019',\n",
      " '_id': ObjectId('5d30d057c449f4335a094377')}\n"
     ]
    },
    {
     "data": {
      "application/vnd.jupyter.widget-view+json": {
       "model_id": "772928a496fa4b70834733a519732180",
       "version_major": 2,
       "version_minor": 0
      },
      "text/plain": [
       "Button(description='Generate Reports', style=ButtonStyle())"
      ]
     },
     "metadata": {},
     "output_type": "display_data"
    },
    {
     "data": {
      "application/vnd.jupyter.widget-view+json": {
       "model_id": "8525cc1af4824d0dbdd10126a0432f0a",
       "version_major": 2,
       "version_minor": 0
      },
      "text/plain": [
       "Button(description='Generate Analyses', style=ButtonStyle())"
      ]
     },
     "metadata": {},
     "output_type": "display_data"
    },
    {
     "data": {
      "application/vnd.jupyter.widget-view+json": {
       "model_id": "ce9cce67314e4da5ad44eedd54b87108",
       "version_major": 2,
       "version_minor": 0
      },
      "text/plain": [
       "QgridWidget(grid_options={'fullWidthRows': True, 'syncColumnCellResize': True, 'forceFitColumns': True, 'defau…"
      ]
     },
     "metadata": {},
     "output_type": "display_data"
    }
   ],
   "source": [
    "from ipywidgets import widgets\n",
    "import numpy as np\n",
    "import pandas as pd\n",
    "import qgrid\n",
    "import pprint\n",
    "from pymongo import MongoClient\n",
    "\n",
    "randn = np.random.randn\n",
    "df_types = pd.DataFrame({\n",
    "    'A' : pd.Series(['2013-01-01', '2013-01-02', '2013-01-03', '2013-01-04',\n",
    "               '2013-01-05', '2013-01-06', '2013-01-07', '2013-01-08', '2013-01-09'],index=list(range(9)),dtype='datetime64[ns]'),\n",
    "    'B' : pd.Series(randn(9),index=list(range(9)),dtype='float32'),\n",
    "    'C' : pd.Categorical([\"test1\", \"test2\", \"test3\", \"test4\", \"test5\",\"test6\", \"test7\", \"tets8\", \"test9\"]),\n",
    "    'D' : [\"test1\", \"test2\", \"test3\", \"test4\", \"test5\",\"test6\", \"test7\", \"tets8\", \"test9\"] })\n",
    "df_types['E'] = df_types['D'] == 'foo'\n",
    "qgrid_widget = qgrid.show_grid(df_types, show_toolbar=True)\n",
    "\n",
    "client = MongoClient('localhost:27017') ## 27017 é a porta padrão para a instalação do Mongo DB\n",
    "db = client.Test\n",
    "collection = db.CapsuleStore\n",
    "\n",
    "pprint.pprint(collection.find_one())\n",
    "\n",
    "\n",
    "button = widgets.Button(description=\"Generate Reports\")\n",
    "button2 = widgets.Button(description=\"Generate Analyses\")\n",
    "display(button)\n",
    "display(button2)\n",
    "\n",
    "def generate_report_click(b):\n",
    "    print(\"Teste botão relatórios\")\n",
    "    \n",
    "def run_analysis_click(c):\n",
    "    print(\"Teste botão análises\")\n",
    "    \n",
    "button.on_click(generate_report_click)\n",
    "button2.on_click(run_analysis_click)\n",
    "\n",
    "qgrid_widget"
   ]
  },
  {
   "cell_type": "code",
   "execution_count": null,
   "metadata": {},
   "outputs": [],
   "source": [
    "new_info = {\"author\": \"Mike\",\n",
    "...               \"text\": \"Another post!\",\n",
    "...               \"tags\": [\"bulk\", \"insert\"],\n",
    "...               \"date\": \"teste\"}\n",
    "\n",
    "\n",
    "collection = db.CapsuleStore\n",
    "post_id = collection.insert_one(new_info).inserted_id\n",
    "post_id\n",
    "ObjectId('...')"
   ]
  },
  {
   "cell_type": "code",
   "execution_count": 80,
   "metadata": {},
   "outputs": [
    {
     "data": {
      "application/vnd.jupyter.widget-view+json": {
       "model_id": "e63404422ba44387a50494f00da00690",
       "version_major": 2,
       "version_minor": 0
      },
      "text/plain": [
       "Tab(children=(HBox(children=(Tree(nodes=(Node(name='Angola', nodes=(Node(name='Wells', nodes=(Node(name='KAG_H…"
      ]
     },
     "metadata": {},
     "output_type": "display_data"
    }
   ],
   "source": [
    "from ipytree import Tree,Node\n",
    "from ipywidgets import widgets\n",
    "\n",
    "\n",
    "selected_item = widgets.Text(\n",
    "    placeholder='',\n",
    "    description='Well:',\n",
    "    disabled=True   \n",
    ")\n",
    "\n",
    "analysis_options = widgets.SelectMultiple(\n",
    "       options=['oscilations1', 'flat1', 'drift1', 'drift2'],\n",
    "       value=['oscilations1'],\n",
    "       description='Analysis')\n",
    "\n",
    "completions = widgets.Dropdown(\n",
    "       options=['HUN111', 'HUN112', 'HUN113', 'HUN114'],\n",
    "       value='HUN111',\n",
    "       description='Completions')\n",
    "\n",
    "\n",
    "tag_name = widgets.Text(\n",
    "       value='Tag Name',\n",
    "       description='Tag Name', )\n",
    "\n",
    "tag_or_attribute = widgets.Dropdown(\n",
    "       options=['tag', 'attribute'],\n",
    "       value='tag',\n",
    "    description='Tag/Attribute')\n",
    "\n",
    "tree = Tree(stripes=False)\n",
    "\n",
    "node1 = Node('Angola',[Node('Wells',[Node('KAG_HUN111'),Node('KAG_HUN112'),Node('KAG_HUN113')])])\n",
    "tree.add_node(node1)\n",
    "\n",
    "box = widgets.VBox([selected_item,completions, analysis_options, tag_name, tag_or_attribute])\n",
    "\n",
    "\n",
    "links = []\n",
    "\n",
    "def on_selected_change(change):\n",
    "    display(\"teste1\")\n",
    "    for l in links:\n",
    "        l.unlink()\n",
    "    links.clear()\n",
    "    if not len(change['new']):\n",
    "        display(\"teste\")\n",
    "        return\n",
    "    display(\"teste2\")\n",
    "    links.append(link((change['new'][0], 'name'), (selected_item, 'value')))\n",
    "\n",
    "   \n",
    "tree.observe(on_selected_change, names='selected_item')\n",
    "\n",
    "#accordionHun111 = widgets.Accordion(children=[box])\n",
    "#accordionHun111.set_title(0, 'KAG_HUN111')\n",
    "\n",
    "#accordionHun112 = widgets.Accordion(children=[box])\n",
    "#accordionHun112.set_title(0, 'KAG_HUN112')\n",
    "\n",
    "#accordionHun113 = widgets.Accordion(children=[box])\n",
    "#accordionHun113.set_title(0, 'KAG_HUN113')\n",
    "\n",
    "#accordionWell = widgets.Accordion(children=[accordionHun111, accordionHun112,accordionHun113])\n",
    "#accordionWell.set_title(0, 'Wells')\n",
    "\n",
    "#accordionField = widgets.Accordion(children=[accordionWell])\n",
    "#accordionField.set_title(0, 'Angola')\n",
    "\n",
    "components = HBox([tree,box])\n",
    "children = components\n",
    "# initializing a tab\n",
    "tab = widgets.Tab()\n",
    "# setting the tab windows \n",
    "tab.children = [children]\n",
    "tab.set_title(0, 'Analysis')\n",
    "\n",
    "\n",
    "#display(box)\n",
    "\n",
    "#display(tree)\n",
    "\n",
    "\n",
    "display(tab)\n"
   ]
  },
  {
   "cell_type": "code",
   "execution_count": null,
   "metadata": {},
   "outputs": [],
   "source": [
    "\n",
    "\n"
   ]
  },
  {
   "cell_type": "code",
   "execution_count": null,
   "metadata": {},
   "outputs": [],
   "source": []
  }
 ],
 "metadata": {
  "kernelspec": {
   "display_name": "Python 3",
   "language": "python",
   "name": "python3"
  },
  "language_info": {
   "codemirror_mode": {
    "name": "ipython",
    "version": 3
   },
   "file_extension": ".py",
   "mimetype": "text/x-python",
   "name": "python",
   "nbconvert_exporter": "python",
   "pygments_lexer": "ipython3",
   "version": "3.7.3"
  }
 },
 "nbformat": 4,
 "nbformat_minor": 2
}
