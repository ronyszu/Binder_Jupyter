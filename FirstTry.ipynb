{
 "cells": [
  {
   "cell_type": "code",
   "execution_count": 1,
   "metadata": {},
   "outputs": [],
   "source": [
    "## TODO\n",
    "# 1 - Check all Layouts\n",
    "# 2 - \n",
    "#\n",
    "#\n",
    "#\n",
    "#\n",
    "\n",
    "from ipytree import Tree,Node\n",
    "from ipywidgets import widgets, link, Layout, Dropdown, HBox, VBox, Box, Text\n",
    "from IPython.display import display\n",
    "from pprint import pprint\n",
    "from pymongo import MongoClient"
   ]
  },
  {
   "cell_type": "code",
   "execution_count": 2,
   "metadata": {},
   "outputs": [],
   "source": [
    "## Mongo Connection\n",
    "\n",
    "#client = MongoClient('localhost:27017') ## 27017 é a porta padrão para a instalação do Mongo DB\n",
    "#db = client.Test\n",
    "#collection = db.CapsuleStore"
   ]
  },
  {
   "cell_type": "code",
   "execution_count": 3,
   "metadata": {},
   "outputs": [],
   "source": [
    "#test = collection.find_one()\n",
    "#pprint(test)"
   ]
  },
  {
   "cell_type": "code",
   "execution_count": 4,
   "metadata": {},
   "outputs": [],
   "source": [
    "## Dropdowns ##\n",
    "\n",
    "dropdown_piaf_attributes = Dropdown(\n",
    "    options=['PI AF Attribute', 'Unrelated Tag'],\n",
    "    value='PI AF Attribute',\n",
    "    description='Type:',\n",
    "    disabled=False,\n",
    "    #layout=Layout(width='auto'),\n",
    ")\n",
    "dropdown_tags = Dropdown(\n",
    "    options=['1', '2', '3'], #TODO: Atualizar opções com as tags do banco após selecionar o 'type'\n",
    "    value='1',\n",
    "    description='Tag:',\n",
    "    disabled=False,\n",
    ")\n",
    "\n",
    "dropdown_rules = Dropdown(\n",
    "    options=['Rule 1', 'Rule 2', 'Rule 3'],\n",
    "    value='Rule 1',\n",
    "    description='Rules:',\n",
    "    disabled=False,\n",
    ")\n",
    "\n",
    "\n",
    "## Add Tag Dropdowns ##\n",
    "dropdown_piaf_attributes_add = dropdown_piaf_attributes\n",
    "dropdown_template_add = Dropdown(\n",
    "    options=['Template Test 1', 'Template Test 1'],\n",
    "    value='Template Test 1',\n",
    "    description='Template',\n",
    "    disabled=False,\n",
    "    #layout=Layout(width='auto'),\n",
    ")\n",
    "dropdown_parent_element_add = Dropdown(\n",
    "    options=['Parent Element 1', 'Parent Element 2'],\n",
    "    value='Parent Element 1',\n",
    "    description='Parente Element:',\n",
    "    disabled=False,\n",
    "    #layout=Layout(width='auto'),\n",
    ")\n",
    "\n",
    "## Add Rules Dropdowns ##\n",
    "dropdown_ruletype_add = Dropdown(\n",
    "    options=['Outliers', 'Oscilations','Drift','Flat','Engineering Rules','Generic'],\n",
    "    description='Rule Type',\n",
    "    disabled=False,\n",
    "    #layout=Layout(width='auto'),\n",
    ")"
   ]
  },
  {
   "cell_type": "code",
   "execution_count": 5,
   "metadata": {},
   "outputs": [],
   "source": [
    "## Text ##\n",
    "\n",
    "## Add Text ##\n",
    "add_accordion_tagname_text = widgets.Text(\n",
    "    description = 'Tag Name',\n",
    ")"
   ]
  },
  {
   "cell_type": "code",
   "execution_count": 6,
   "metadata": {},
   "outputs": [],
   "source": [
    "## Buttons ##\n",
    "\n",
    "## Add Accordion Buttons ##\n",
    "add_accordion_tag_button = widgets.Button(\n",
    "    description='',\n",
    "    disabled=False,\n",
    "    button_style='success', # 'success', 'info', 'warning', 'danger' or ''\n",
    "    tooltip='Add a new Tag',\n",
    "    icon='check'\n",
    ")\n",
    "add_accordion_rule_button = widgets.Button(\n",
    "    description='',\n",
    "    disabled=False,\n",
    "    button_style='danger', # 'success', 'info', 'warning', 'danger' or ''\n",
    "    tooltip='Add a new Rule',\n",
    "    icon='check'\n",
    ")"
   ]
  },
  {
   "cell_type": "code",
   "execution_count": 7,
   "metadata": {},
   "outputs": [],
   "source": [
    "# Hidden Rule Type Parameters Boxes\n",
    "\n",
    "#Outliers\n",
    "outlier_seeqanalysis = Dropdown(\n",
    "    options=['True', 'False'],\n",
    "    description='Seeq Analysis',\n",
    "    disabled=False,\n",
    ")\n",
    "outlier_matlabanalysis = Dropdown(\n",
    "    options=['True', 'False'],\n",
    "    description='MatLab Analysis',\n",
    "    disabled=False,\n",
    ")\n",
    "seeq_sensitivity = Text(\n",
    "    description = 'Sensitivity'\n",
    ")\n",
    "matlab_identificationmethod = Dropdown(\n",
    "    options=['Grubbs'],\n",
    "    description='Identification Method',\n",
    "    disabled=False,\n",
    ")\n",
    "matlab_standard_multiplier = Text(\n",
    "    description = 'Standard Multiplier'\n",
    ")\n",
    "matlab_sensitivity = Text(\n",
    "    description = 'Sensitivity'\n",
    ")\n",
    "\n",
    "outlier_matlabbox = VBox([matlab_identificationmethod,matlab_standard_multiplier,matlab_sensitivity])\n",
    "outlier_seeqbox = VBox([seeq_sensitivity])\n",
    "outlier_analysisbox = HBox([outlier_seeqanalysis,outlier_matlabanalysis])\n",
    "outlier_mainbox = VBox([outlier_analysisbox,HBox([outlier_seeqbox,outlier_matlabbox])])\n",
    "#################################################\n",
    "\n"
   ]
  },
  {
   "cell_type": "code",
   "execution_count": 8,
   "metadata": {},
   "outputs": [],
   "source": [
    "## Accordions ##\n",
    "\n",
    "#Tags\n",
    "add_tag_accordion = widgets.Accordion(\n",
    "    children = [HBox([\n",
    "    dropdown_piaf_attributes_add,\n",
    "    VBox([dropdown_template_add,dropdown_parent_element_add]),\n",
    "    VBox([add_accordion_tagname_text,add_accordion_tag_button]),\n",
    "                    ])\n",
    "               ]\n",
    ")\n",
    "add_tag_accordion.set_title(0, 'Add Tag')\n",
    "\n",
    "\n",
    "#Rules\n",
    "add_rule_accordion = widgets.Accordion(\n",
    "    children = [VBox([dropdown_ruletype_add,outlier_mainbox,add_accordion_rule_button])]\n",
    ")\n",
    "add_rule_accordion.set_title(0, 'Add Rule')"
   ]
  },
  {
   "cell_type": "code",
   "execution_count": 9,
   "metadata": {},
   "outputs": [],
   "source": [
    "## Functions\n",
    "def on_change(change):\n",
    "    if change['type'] == 'change' and change['name'] == 'value':\n",
    "        print (\"changed to %s\" % change['new'])\n",
    "\n",
    "dropdown_ruletype_add.observe(on_change)\n",
    "\n",
    "\n",
    "def on_seeq_change(change):\n",
    "    if change['type'] == 'change' and change['name'] == 'value':\n",
    "        print (\"Seeq Analysis changed to %s\" % change['new'])\n",
    "def on_matlab_change(change):\n",
    "    if change['type'] == 'change' and change['name'] == 'value':\n",
    "        print (\"Matlab Analysis changed to %s\" % change['new'])\n",
    "\n",
    "outlier_seeqanalysis.observe(on_seeq_change)\n",
    "outlier_matlabanalysis.observe(on_matlab_change)"
   ]
  },
  {
   "cell_type": "code",
   "execution_count": 10,
   "metadata": {
    "scrolled": true
   },
   "outputs": [
    {
     "data": {
      "application/vnd.jupyter.widget-view+json": {
       "model_id": "27606d2a569348c785fc3e9681995bf8",
       "version_major": 2,
       "version_minor": 0
      },
      "text/plain": [
       "VBox(children=(HBox(children=(Dropdown(description='Type:', options=('PI AF Attribute', 'Unrelated Tag'), valu…"
      ]
     },
     "metadata": {},
     "output_type": "display_data"
    },
    {
     "name": "stdout",
     "output_type": "stream",
     "text": [
      "Seeq Analysis changed to False\n",
      "Matlab Analysis changed to False\n",
      "Matlab Analysis changed to True\n"
     ]
    }
   ],
   "source": [
    "## General Boxes and Display ##\n",
    "drowpdowns_box = HBox([dropdown_piaf_attributes,dropdown_tags,dropdown_rules])\n",
    "add_accordion_box = HBox([add_tag_accordion,add_rule_accordion])\n",
    "\n",
    "main_box = VBox([drowpdowns_box,add_accordion_box])\n",
    "display(main_box)\n"
   ]
  },
  {
   "cell_type": "code",
   "execution_count": null,
   "metadata": {},
   "outputs": [],
   "source": []
  },
  {
   "cell_type": "code",
   "execution_count": null,
   "metadata": {},
   "outputs": [],
   "source": []
  }
 ],
 "metadata": {
  "kernelspec": {
   "display_name": "Python 3",
   "language": "python",
   "name": "python3"
  },
  "language_info": {
   "codemirror_mode": {
    "name": "ipython",
    "version": 3
   },
   "file_extension": ".py",
   "mimetype": "text/x-python",
   "name": "python",
   "nbconvert_exporter": "python",
   "pygments_lexer": "ipython3",
   "version": "3.7.3"
  }
 },
 "nbformat": 4,
 "nbformat_minor": 2
}
